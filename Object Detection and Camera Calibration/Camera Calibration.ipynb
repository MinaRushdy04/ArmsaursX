{
 "cells": [
  {
   "cell_type": "markdown",
   "id": "f366668a",
   "metadata": {},
   "source": [
    "# 1. Capture images for chessboard"
   ]
  },
  {
   "cell_type": "code",
   "execution_count": null,
   "id": "690574cf",
   "metadata": {},
   "outputs": [],
   "source": [
    "import cv2\n",
    "\n",
    "cap = cv2.VideoCapture(1)\n",
    "num = 0\n",
    "\n",
    "while cap.isOpened():\n",
    "    success, img = cap.read()\n",
    "    k = cv2.waitKey(5)\n",
    "    if k == 27:\n",
    "        break\n",
    "    elif k == ord('s'):\n",
    "        cv2.imwrite('images/' + str(num) + '.png', img)\n",
    "        print(\"image saved!\")\n",
    "        num += 1\n",
    "    cv2.imshow('Img',img)\n",
    "\n",
    "cap.release()\n",
    "cv2.destroyAllWindows()"
   ]
  },
  {
   "cell_type": "markdown",
   "id": "a064483b",
   "metadata": {},
   "source": [
    "# 2. Check that corners are found"
   ]
  },
  {
   "cell_type": "markdown",
   "id": "3441773e",
   "metadata": {},
   "source": [
    "If chessboard is (6,6) so corners are (5,5) "
   ]
  },
  {
   "cell_type": "code",
   "execution_count": null,
   "id": "4544172e",
   "metadata": {},
   "outputs": [],
   "source": [
    "import cv2 as cv\n",
    "import glob\n",
    "\n",
    "chessboardSize = (5,4)  #corners \n",
    "images = glob.glob('images/*.png')\n",
    "\n",
    "for fname in images:\n",
    "    img = cv.imread(fname)\n",
    "    gray = cv.cvtColor(img, cv.COLOR_BGR2GRAY)\n",
    "\n",
    "    ret, corners = cv.findChessboardCorners(gray, chessboardSize, None)\n",
    "    print(fname, \" -> \", ret)\n",
    "\n",
    "    if ret:\n",
    "        cv.drawChessboardCorners(img, chessboardSize, corners, ret)\n",
    "    cv.imshow('Check', img)\n",
    "    cv.waitKey(500)\n",
    "\n",
    "cv.destroyAllWindows()\n"
   ]
  },
  {
   "cell_type": "markdown",
   "id": "5f620584",
   "metadata": {},
   "source": [
    "# 3. Camera Calibration to calculate desired parameters"
   ]
  },
  {
   "cell_type": "code",
   "execution_count": null,
   "id": "d3920575",
   "metadata": {},
   "outputs": [],
   "source": [
    "import numpy as np\n",
    "import cv2 as cv\n",
    "import glob\n",
    "\n",
    "chessboardSize = (5,4)\n",
    "frameSize = (640,480)\n",
    "\n",
    "criteria = (cv.TERM_CRITERIA_EPS + cv.TERM_CRITERIA_MAX_ITER, 30, 0.001)\n",
    "\n",
    "objp = np.zeros((chessboardSize[0] * chessboardSize[1], 3), np.float32)\n",
    "objp[:,:2] = np.mgrid[0:chessboardSize[0], 0:chessboardSize[1]].T.reshape(-1,2)\n",
    "\n",
    "objPoints = []  \n",
    "imgPoints = []  \n",
    "\n",
    "images = glob.glob('images/*.png')\n",
    "for image in images:\n",
    "    img = cv.imread(image)\n",
    "    gray = cv.cvtColor(img, cv.COLOR_BGR2GRAY)\n",
    "\n",
    "    ret, corners = cv.findChessboardCorners(\n",
    "        gray, chessboardSize, \n",
    "        cv.CALIB_CB_ADAPTIVE_THRESH + cv.CALIB_CB_NORMALIZE_IMAGE\n",
    "    )\n",
    "\n",
    "    if ret:\n",
    "        objPoints.append(objp)\n",
    "        corners2 = cv.cornerSubPix(gray, corners, (11,11), (-1,-1), criteria)\n",
    "        imgPoints.append(corners2)\n",
    "\n",
    "cv.destroyAllWindows()\n",
    "\n",
    "# --- Camera calibration ---\n",
    "ret, cameraMatrix, dist, rvecs, tvecs = cv.calibrateCamera(objPoints, imgPoints, frameSize, None, None)\n",
    "\n",
    "print(\"Camera Calibrated: \", ret)\n",
    "print(\"\\nCamera Matrix:\\n\", cameraMatrix)\n",
    "print(\"\\nDistortion Parameters:\\n\", dist)\n",
    "\n",
    "mean_error = 0\n",
    "for i in range(len(objPoints)):\n",
    "    imgPoints2, _ = cv.projectPoints(objPoints[i], rvecs[i], tvecs[i], cameraMatrix, dist)\n",
    "    error = cv.norm(imgPoints[i], imgPoints2, cv.NORM_L2)/len(imgPoints2)\n",
    "    mean_error += error\n",
    "print(\"\\nTotal error: {}\".format(mean_error/len(objPoints)))\n",
    "\n",
    "# --- Try extrinsic on first valid image ---\n",
    "for image in images:\n",
    "    test_img = cv.imread(image)\n",
    "    gray = cv.cvtColor(test_img, cv.COLOR_BGR2GRAY)\n",
    "    ret, corners = cv.findChessboardCorners(\n",
    "        gray, chessboardSize, \n",
    "        cv.CALIB_CB_ADAPTIVE_THRESH + cv.CALIB_CB_NORMALIZE_IMAGE\n",
    "    )\n",
    "    if ret:\n",
    "        _, rvec, tvec = cv.solvePnP(objp, corners, cameraMatrix, dist)\n",
    "        print(f\"\\nExtrinsic parameters for {image}:\")\n",
    "        print(\"Rotation Vector:\\n\", rvec)\n",
    "        print(\"Translation Vector:\\n\", tvec)\n",
    "\n",
    "        R, _ = cv.Rodrigues(rvec)\n",
    "        print(\"\\nRotation Matrix:\\n\", R)\n",
    "\n",
    "        extrinsic = np.hstack((R, tvec))\n",
    "        print(\"\\nExtrinsic Matrix [R|t]:\\n\", extrinsic)\n",
    "\n",
    "        proj_points, _ = cv.projectPoints(objp, rvec, tvec, cameraMatrix, dist)\n",
    "        error = cv.norm(corners, proj_points, cv.NORM_L2) / len(proj_points)\n",
    "        print(\"\\nReprojection error on this image: \", error)\n",
    "\n",
    "        break\n"
   ]
  }
 ],
 "metadata": {
  "kernelspec": {
   "display_name": "Python 3",
   "language": "python",
   "name": "python3"
  },
  "language_info": {
   "codemirror_mode": {
    "name": "ipython",
    "version": 3
   },
   "file_extension": ".py",
   "mimetype": "text/x-python",
   "name": "python",
   "nbconvert_exporter": "python",
   "pygments_lexer": "ipython3",
   "version": "3.10.11"
  }
 },
 "nbformat": 4,
 "nbformat_minor": 5
}
